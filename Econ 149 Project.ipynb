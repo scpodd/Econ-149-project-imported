{
 "cells": [
  {
   "cell_type": "code",
   "execution_count": 1,
   "metadata": {},
   "outputs": [
    {
     "ename": "SyntaxError",
     "evalue": "invalid syntax (<ipython-input-1-dd3b61a307ba>, line 3)",
     "output_type": "error",
     "traceback": [
      "\u001b[1;36m  File \u001b[1;32m\"<ipython-input-1-dd3b61a307ba>\"\u001b[1;36m, line \u001b[1;32m3\u001b[0m\n\u001b[1;33m    Purpose of this Project (Project Overview)\u001b[0m\n\u001b[1;37m            ^\u001b[0m\n\u001b[1;31mSyntaxError\u001b[0m\u001b[1;31m:\u001b[0m invalid syntax\n"
     ]
    }
   ],
   "source": [
    " # Econ-149-Project\n",
    "\n",
    "Purpose of this Project (Project Overview)\n",
    "This project aims to track and analyze the trends of nominal GDP growth alongside income growth, inflation, and the rise of housing costs. The goal of this project is to illustrate growing disparities between the size of the economy and the wealth of the average American, as reflected in many political and economic statements.\n",
    "\n",
    "This project aims to track and analyze the trends of nominal GDP growth alongside income growth, inflation, and the rise of housing costs. The goal of this project is to illustrate growing disparities between the size of the economy and the wealth of the average American, as reflected in many political and economic statements. We hypothesize that there will be a negative relationship with nominal GDP growth per year and median income growth rate per year. We also hypothesize that nominal GDP growth will have a general positive relationship with inflation and cost of housing, both of which will negatively correlate to median income growth.\n",
    "\n",
    "\n",
    "Structure of the Project Report\n",
    "\n",
    "We anticipate that the project will have four sections: nominal GDP growth by year, inflation rate by year, median income growth rate per year, and cost of housing growth rate per year. The project will then have a cumulative chart showing all the trends together. As mentioned in the purpose, the project seeks to create a visualization of the aforementioned trends. Growth or decline will be indicated in percentage change from the previous year.\n",
    "\n",
    "The project will begin with a graph showing nominal GDP from 1970 to 2019, and three others showing income growth, inflation, and housing costs annually, in that respective order. This part will establish the data, and explain what each graph is showing. The second will begin the overlapping sequence, where we will compare nominal GDP growth with income growth, to compare economic growth with income growth, and determine whether or not the economic prosperity is shared by all Americans. We will then compare income growth to inflation, to see if purchasing power has kept up with inflation. Lastly, we will compare income growth with the median cost of a home, to see if purchasing power has kept up with the cost of housing. The third and final chapter will summarize whether or not income growth has kept up with the economy, and discuss the origins of the data.\n",
    "\n",
    "\n",
    "Overview of the Data\n",
    "For this project, we will be using data primarily from BEA, BLS, FRED, TradingEconomics, and Statista.\n",
    "Though the information provided by each source will mostly be the same, we are using multiple sources for the same information in order to ensure we are inputting the correct data.\n",
    "\n",
    "For this project, we will be using data primarily from FRED, and if applicable, BEA, BLS, TradingEconomics, and Statista.\n",
    "\n",
    "FRED, also known as the Federal Reserve Economic Data, is a leading database of economic information and statistics. For this project, we needed sources that could be converted to both raw numerical results and percentage change from the previous year. FRED makes it possible to see the same graph in multiple different ways.\n",
    "\n",
    "This project will have four key variables: annual nominal GDP growth, annual family income growth, annual inflation, and annual cost in housing. All four will be in % increase or % decrease. The graph will depict a 0 at the middle, with positive and negative figures that will be used to compare rises and declines between two or more variables over the years. \n",
    "\n",
    "Nominal GDP is considered by FRED to be the total value of the goods and services produced by labor and property located in the United States. To summarize, this is simply nominal GDP.\n",
    "\n",
    "Family income growth is derived by FRED from the United States Census Bureau, which defines it as surveyed income from several major household surveys and programs. To summarize, this is family income growth, which is found by comparing median family incomes on a year-by-year basis.\n",
    "\n",
    "Inflation is defined by FRED as being measured by the consumer price index reflects the annual percentage change in the cost to the average consumer of acquiring a basket of goods and services that may be fixed or changed at specified intervals, such as yearly. The Laspeyres formula is generally used. To summarize, inflation is the change in general prices of goods and services from one year to the next.\n",
    "\n",
    "Annual cost in housing is also derived by FRED through the Census Bureau, which provides national and regional data on the number of new single-family houses sold and for sale. To summarize, this is found by comparing the median sale price of a house on a year-by-year basis."
   ]
  },
  {
   "cell_type": "code",
   "execution_count": null,
   "metadata": {},
   "outputs": [],
   "source": []
  }
 ],
 "metadata": {
  "kernelspec": {
   "display_name": "Python 3",
   "language": "python",
   "name": "python3"
  },
  "language_info": {
   "codemirror_mode": {
    "name": "ipython",
    "version": 3
   },
   "file_extension": ".py",
   "mimetype": "text/x-python",
   "name": "python",
   "nbconvert_exporter": "python",
   "pygments_lexer": "ipython3",
   "version": "3.8.3"
  }
 },
 "nbformat": 4,
 "nbformat_minor": 4
}
